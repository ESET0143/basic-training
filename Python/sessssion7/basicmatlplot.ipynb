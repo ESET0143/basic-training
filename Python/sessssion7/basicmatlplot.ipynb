{
 "cells": [
  {
   "cell_type": "markdown",
   "id": "beeb3a4b",
   "metadata": {},
   "source": [
    "# matplot"
   ]
  },
  {
   "cell_type": "code",
   "execution_count": null,
   "id": "5350442d",
   "metadata": {},
   "outputs": [],
   "source": [
    "pip install matplotlib"
   ]
  },
  {
   "cell_type": "markdown",
   "id": "681e0b6f",
   "metadata": {},
   "source": [
    "## baisc matplot graph"
   ]
  },
  {
   "cell_type": "code",
   "execution_count": null,
   "id": "7d4254f2",
   "metadata": {},
   "outputs": [],
   "source": [
    "import matplotlib.pyplot as plt\n",
    "\n",
    "x=[0,2,4,6,8]\n",
    "y=[0,4,16,36,64]\n",
    "fig,ax=plt.subplots()\n",
    "ax.plot(x,y,marker='o',label=\"data points\")\n",
    "ax.set_title(\"basic components of matplotlib figure\")\n",
    "ax.set_xlabel(\"x axis\")\n",
    "ax.set_ylabel(\"y axis\")\n",
    "ax.legend(\"basic plot\")\n",
    "plt.show()\n"
   ]
  },
  {
   "cell_type": "markdown",
   "id": "2ff775f5",
   "metadata": {},
   "source": [
    "## baisc matplot bar chart"
   ]
  },
  {
   "cell_type": "code",
   "execution_count": null,
   "id": "c700269b",
   "metadata": {},
   "outputs": [],
   "source": [
    "import numpy as np\n",
    "import pandas as pd\n",
    "import matplotlib.pyplot as plt\n",
    "arr=np.array([10,20,30])\n",
    "df=pd.DataFrame({\"numbers\":arr})\n",
    "plt.bar(df.index,df[\"numbers\"])\n",
    "plt.show()"
   ]
  },
  {
   "cell_type": "markdown",
   "id": "ce86c9b5",
   "metadata": {},
   "source": [
    "## baisc matplot bar chart using dictionary"
   ]
  },
  {
   "cell_type": "code",
   "execution_count": null,
   "id": "2848c655",
   "metadata": {},
   "outputs": [],
   "source": [
    "import numpy as np\n",
    "import pandas as pd\n",
    "import matplotlib.pyplot as plt\n",
    "my_dict={\"a\":10,\"b\":20,\"c\":30}\n",
    "df=pd.DataFrame(list(my_dict.items()),columns=[\"alphabets\",\"numbers\"])\n",
    "# print(df)\n",
    "plt.bar(df[\"alphabets\"],df[\"numbers\"])\n",
    "# plt.grid()\n",
    "plt.show()"
   ]
  },
  {
   "cell_type": "code",
   "execution_count": null,
   "id": "0873c684",
   "metadata": {},
   "outputs": [],
   "source": [
    "pip install seaborn"
   ]
  },
  {
   "cell_type": "code",
   "execution_count": null,
   "id": "6305eaa1",
   "metadata": {},
   "outputs": [],
   "source": [
    "import seaborn as sns\n",
    "a=[10,20,30,4120,60,70,80,90,400,1200] \n",
    "# x=np.mean(a)\n",
    "# print(x)\n",
    "sns.boxplot(a)"
   ]
  },
  {
   "cell_type": "code",
   "execution_count": 42,
   "id": "df950b00",
   "metadata": {},
   "outputs": [
    {
     "name": "stdout",
     "output_type": "stream",
     "text": [
      "numbers    10.0\n",
      "dtype: float64\n"
     ]
    }
   ],
   "source": [
    "arr=np.array([10,20,30])\n",
    "df=pd.DataFrame({\"numbers\":arr})\n",
    "Q1=df.quantile(0.25)\n",
    "Q3=df.quantile(0.75)\n",
    "IQR=Q3-Q1\n",
    "print(IQR)"
   ]
  },
  {
   "cell_type": "code",
   "execution_count": null,
   "id": "40f4ea40",
   "metadata": {},
   "outputs": [],
   "source": []
  }
 ],
 "metadata": {
  "kernelspec": {
   "display_name": "Python 3",
   "language": "python",
   "name": "python3"
  },
  "language_info": {
   "codemirror_mode": {
    "name": "ipython",
    "version": 3
   },
   "file_extension": ".py",
   "mimetype": "text/x-python",
   "name": "python",
   "nbconvert_exporter": "python",
   "pygments_lexer": "ipython3",
   "version": "3.13.7"
  }
 },
 "nbformat": 4,
 "nbformat_minor": 5
}
